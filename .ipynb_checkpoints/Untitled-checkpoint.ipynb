{
 "cells": [
  {
   "cell_type": "code",
   "execution_count": 20,
   "id": "fc4b1f5b-d374-4b91-ba38-dc9482ae255c",
   "metadata": {},
   "outputs": [],
   "source": [
    "import numpy as np\n",
    "import scipy\n",
    "\n",
    "def create_rot_matrix(angle: float):\n",
    "    return np.array([[np.cos(angle), np.sin(angle)], \n",
    "                    [-np.sin(angle), np.cos(angle)]])\n",
    "    \n",
    "class Robot:\n",
    "    length = None\n",
    "    width = None\n",
    "    corner_angle = None\n",
    "    half_diag_length = None\n",
    "    \n",
    "    current_pos = None\n",
    "    \n",
    "    angle = None\n",
    "    direction_unit_vec = None\n",
    "    \n",
    "    corners = None\n",
    "    corner_offsets = None\n",
    "\n",
    "    def __init__(self, dimensions: tuple, start_pos: list, angle: float):\n",
    "        self.width = dimensions[0]\n",
    "        self.length = dimensions[1]\n",
    "        self.corner_angle = np.arcsin(width/length)\n",
    "        self.half_diag_length = np.linalg.norm([width/2, length/2])\n",
    "        \n",
    "        self.current_pos = np.array(start_pos)\n",
    "        self.angle = angle\n",
    "        \n",
    "        self.direction_unit_vec = create_rot_matrix(angle) @ np.array([0, 1])\n",
    "        \n",
    "        corner_0_offset = create_rot_matrix(angle + corner_angle) @ (half_diag_length * np.array([0, 1]))\n",
    "        corner_1_offset = create_rot_matrix(angle - corner_angle) @ (half_diag_length * np.array([0, 1]))\n",
    "        self.corner_offsets = np.array([corner_0_offset, corner_1_offset])\n",
    "        self.corners = [current_pos + cor]\n",
    "        \n",
    "        ################################################\n",
    "        #      Direction unit vector                   #\n",
    "        #        X                                     #\n",
    "        #        |                                     #\n",
    "        #        |                                     #\n",
    "        #   X,---|---,X Corner Offsets                 #\n",
    "        #    |\\  |  /|                                 #\n",
    "        #    | \\ | / |                                 #\n",
    "        #    |  \\|/  |                                 #\n",
    "        #    |   O   |  Length                         #\n",
    "        #    |       |                                 #\n",
    "        #    |       |                 ^ Y             #\n",
    "        #    |       |                 |               #\n",
    "        #    `-------'                 |               #\n",
    "        #      Width                   '-----> X       #\n",
    "        ################################################\n",
    "\n",
    "    def rotate(rot_angle: float):\n",
    "        self.direction_unit_vec = create_rot_matrix(rot_angle) @ self.direction_unit_vec\n",
    "        self.corner_offsets[0] = create_rot_matrix(rot_angle) @ self.corner_offsets[0]\n",
    "        self.corner_offsets[1] = create_rot_matrix(rot_angle) @ self.corner_offsets[1]\n",
    "\n",
    "        corners[0] = current_pos + corner_offsets[0]\n",
    "        corners[1] = current_pos + corner_offsets[1]\n",
    "        corners[2] = current_pos - corner_offsets[0]\n",
    "        corners[3] = current_pos - corner_offsets[1]\n",
    "        "
   ]
  },
  {
   "cell_type": "code",
   "execution_count": 13,
   "id": "bde2365c-14eb-42e0-89f9-a9e14c7a44e3",
   "metadata": {},
   "outputs": [
    {
     "data": {
      "text/plain": [
       "1.0"
      ]
     },
     "execution_count": 13,
     "metadata": {},
     "output_type": "execute_result"
    }
   ],
   "source": [
    "rot_m  = np.array([[0, 1], [-1, 0]])\n",
    "vec = np.array([0, 1])\n",
    "\n",
    "rot_m @ vec\n",
    "np.linalg.norm([10, 5])\n",
    "np.sin(np.pi/2)"
   ]
  }
 ],
 "metadata": {
  "kernelspec": {
   "display_name": "soi24",
   "language": "python",
   "name": "soi24"
  },
  "language_info": {
   "codemirror_mode": {
    "name": "ipython",
    "version": 3
   },
   "file_extension": ".py",
   "mimetype": "text/x-python",
   "name": "python",
   "nbconvert_exporter": "python",
   "pygments_lexer": "ipython3",
   "version": "3.12.3"
  }
 },
 "nbformat": 4,
 "nbformat_minor": 5
}
